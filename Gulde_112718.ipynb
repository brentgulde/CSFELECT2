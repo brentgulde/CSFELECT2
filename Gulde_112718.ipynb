{
  "nbformat": 4,
  "nbformat_minor": 0,
  "metadata": {
    "colab": {
      "name": "Gulde_112718.ipynb",
      "version": "0.3.2",
      "provenance": []
    },
    "kernelspec": {
      "name": "python3",
      "display_name": "Python 3"
    }
  },
  "cells": [
    {
      "metadata": {
        "id": "gNAh5o70sceV",
        "colab_type": "code",
        "colab": {
          "resources": {
            "http://localhost:8080/nbextensions/google.colab/files.js": {
              "data": "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",
              "ok": true,
              "headers": [
                [
                  "content-type",
                  "application/javascript"
                ]
              ],
              "status": 200,
              "status_text": ""
            }
          },
          "base_uri": "https://localhost:8080/",
          "height": 72
        },
        "outputId": "f7f19bca-19d5-4a72-8585-a4340b8e52b7"
      },
      "cell_type": "code",
      "source": [
        "from google.colab import files\n",
        "uploaded = files.upload()"
      ],
      "execution_count": 2,
      "outputs": [
        {
          "output_type": "display_data",
          "data": {
            "text/html": [
              "\n",
              "     <input type=\"file\" id=\"files-801f165a-45c9-481b-a819-f770b5108ce2\" name=\"files[]\" multiple disabled />\n",
              "     <output id=\"result-801f165a-45c9-481b-a819-f770b5108ce2\">\n",
              "      Upload widget is only available when the cell has been executed in the\n",
              "      current browser session. Please rerun this cell to enable.\n",
              "      </output>\n",
              "      <script src=\"/nbextensions/google.colab/files.js\"></script> "
            ],
            "text/plain": [
              "<IPython.core.display.HTML object>"
            ]
          },
          "metadata": {
            "tags": []
          }
        },
        {
          "output_type": "stream",
          "text": [
            "Saving movies_metadata.csv to movies_metadata (1).csv\n"
          ],
          "name": "stdout"
        }
      ]
    },
    {
      "metadata": {
        "id": "wAMLCEPjtAaS",
        "colab_type": "code",
        "colab": {
          "base_uri": "https://localhost:8080/",
          "height": 153
        },
        "outputId": "7297a60a-ac3e-42b8-de42-de15b11573d4"
      },
      "cell_type": "code",
      "source": [
        "import pandas as pd\n",
        "import numpy as np\n",
        "df = pd.read_csv('movies_metadata (1).csv', encoding='latin-1')\n",
        "print(\"Columns of the DataFrame:\")\n",
        "print(df.columns)"
      ],
      "execution_count": 5,
      "outputs": [
        {
          "output_type": "stream",
          "text": [
            "Columns of the DataFrame:\n",
            "Index(['adult', 'belongs_to_collection', 'budget', 'genres', 'homepage', 'id',\n",
            "       'imdb_id', 'original_language', 'original_title', 'overview',\n",
            "       'popularity', 'poster_path', 'production_companies',\n",
            "       'production_countries', 'release_date', 'revenue', 'runtime',\n",
            "       'spoken_languages', 'status', 'tagline', 'title', 'video',\n",
            "       'vote_average', 'vote_count'],\n",
            "      dtype='object')\n"
          ],
          "name": "stdout"
        }
      ]
    },
    {
      "metadata": {
        "id": "s-peU1uqtU9e",
        "colab_type": "code",
        "colab": {
          "base_uri": "https://localhost:8080/",
          "height": 544
        },
        "outputId": "fbd03c78-dd27-4cbd-97a6-976ae87ecdc7"
      },
      "cell_type": "code",
      "source": [
        "import pandas as pd\n",
        "df = pd.read_csv('movies_metadata (1).csv', encoding='latin-1')\n",
        "result = df.info()\n",
        "print('Details of the Result:')\n",
        "print(result)"
      ],
      "execution_count": 6,
      "outputs": [
        {
          "output_type": "stream",
          "text": [
            "<class 'pandas.core.frame.DataFrame'>\n",
            "RangeIndex: 50 entries, 0 to 49\n",
            "Data columns (total 24 columns):\n",
            "adult                    50 non-null bool\n",
            "belongs_to_collection    10 non-null object\n",
            "budget                   50 non-null int64\n",
            "genres                   50 non-null object\n",
            "homepage                 5 non-null object\n",
            "id                       50 non-null int64\n",
            "imdb_id                  50 non-null object\n",
            "original_language        50 non-null object\n",
            "original_title           50 non-null object\n",
            "overview                 49 non-null object\n",
            "popularity               50 non-null object\n",
            "poster_path              50 non-null object\n",
            "production_companies     50 non-null object\n",
            "production_countries     50 non-null object\n",
            "release_date             50 non-null object\n",
            "revenue                  50 non-null object\n",
            "runtime                  50 non-null int64\n",
            "spoken_languages         50 non-null object\n",
            "status                   50 non-null object\n",
            "tagline                  41 non-null object\n",
            "title                    50 non-null object\n",
            "video                    50 non-null object\n",
            "vote_average             50 non-null object\n",
            "vote_count               50 non-null float64\n",
            "dtypes: bool(1), float64(1), int64(3), object(19)\n",
            "memory usage: 9.1+ KB\n",
            "Details of the Result:\n",
            "None\n"
          ],
          "name": "stdout"
        }
      ]
    },
    {
      "metadata": {
        "id": "0EGbJwo_tXVK",
        "colab_type": "code",
        "colab": {
          "base_uri": "https://localhost:8080/",
          "height": 459
        },
        "outputId": "c8d62b88-723e-4637-d8f8-2affd6ad077d"
      },
      "cell_type": "code",
      "source": [
        "import pandas as pd\n",
        "df = pd.read_csv('movies_metadata (1).csv', encoding='latin-1')\n",
        "third_movie = df.iloc[2]\n",
        "print('Details of the Third Movie:')\n",
        "print(third_movie)"
      ],
      "execution_count": 8,
      "outputs": [
        {
          "output_type": "stream",
          "text": [
            "Details of the Third Movie:\n",
            "adult                                                                False\n",
            "belongs_to_collection    {'id': 119050, 'name': 'Grumpy Old Men Collect...\n",
            "budget                                                                   0\n",
            "genres                   [{'id': 10749, 'name': 'Romance'}, {'id': 35, ...\n",
            "homepage                                                               NaN\n",
            "id                                                                   15602\n",
            "imdb_id                                                          tt0113228\n",
            "original_language                                                       en\n",
            "original_title                                            Grumpier Old Men\n",
            "overview                 A family wedding reignites the ancient feud be...\n",
            "popularity                                                         11.7129\n",
            "poster_path                               /6ksm1sjKMFLbO7UY2i6G1ju9SML.jpg\n",
            "production_companies     [{'name': 'Warner Bros.', 'id': 6194}, {'name'...\n",
            "production_countries     [{'iso_3166_1': 'US', 'name': 'United States o...\n",
            "release_date                                                    12/22/1995\n",
            "revenue                                                                  0\n",
            "runtime                                                                101\n",
            "spoken_languages                  [{'iso_639_1': 'en', 'name': 'English'}]\n",
            "status                                                            Released\n",
            "tagline                  Still Yelling. Still Fighting. Still Ready for...\n",
            "title                                                     Grumpier Old Men\n",
            "video                                                                FALSE\n",
            "vote_average                                                           6.5\n",
            "vote_count                                                              92\n",
            "Name: 2, dtype: object\n"
          ],
          "name": "stdout"
        }
      ]
    },
    {
      "metadata": {
        "id": "dKCyp5kNtb6S",
        "colab_type": "code",
        "colab": {
          "base_uri": "https://localhost:8080/",
          "height": 1785
        },
        "outputId": "989a3d3c-179f-46ae-bdc0-1b538956465b"
      },
      "cell_type": "code",
      "source": [
        "import pandas as pd\n",
        "df = pd.read_csv('movies_metadata (1).csv', encoding='latin-1')\n",
        "result = df[['title', 'genres']]\n",
        "print(\"Details of title and genres:\")\n",
        "print(result)"
      ],
      "execution_count": 9,
      "outputs": [
        {
          "output_type": "stream",
          "text": [
            "Details of title and genres:\n",
            "                                                title  \\\n",
            "0                                           Toy Story   \n",
            "1                                             Jumanji   \n",
            "2                                    Grumpier Old Men   \n",
            "3                                   Waiting to Exhale   \n",
            "4                         Father of the Bride Part II   \n",
            "5                                                Heat   \n",
            "6                                             Sabrina   \n",
            "7                                        Tom and Huck   \n",
            "8                                        Sudden Death   \n",
            "9                                           GoldenEye   \n",
            "10                             The American President   \n",
            "11                        Dracula: Dead and Loving It   \n",
            "12                                              Balto   \n",
            "13                                              Nixon   \n",
            "14                                   Cutthroat Island   \n",
            "15                                             Casino   \n",
            "16                              Sense and Sensibility   \n",
            "17                                         Four Rooms   \n",
            "18                     Ace Ventura: When Nature Calls   \n",
            "19                                        Money Train   \n",
            "20                                         Get Shorty   \n",
            "21                                            Copycat   \n",
            "22                                          Assassins   \n",
            "23                                             Powder   \n",
            "24                                  Leaving Las Vegas   \n",
            "25                                            Othello   \n",
            "26                                       Now and Then   \n",
            "27                                         Persuasion   \n",
            "28                          The City of Lost Children   \n",
            "29  In 1930's Shanghai violence was not the proble...   \n",
            "30                                    Dangerous Minds   \n",
            "31                                     Twelve Monkeys   \n",
            "32                                   Wings of Courage   \n",
            "33                                               Babe   \n",
            "34                                         Carrington   \n",
            "35                                   Dead Man Walking   \n",
            "36                             Across the Sea of Time   \n",
            "37                                       It Takes Two   \n",
            "38                                           Clueless   \n",
            "39                           Cry, the Beloved Country   \n",
            "40                                        Richard III   \n",
            "41                                    Dead Presidents   \n",
            "42                                        Restoration   \n",
            "43                                      Mortal Kombat   \n",
            "44                                         To Die For   \n",
            "45                      How To Make An American Quilt   \n",
            "46                                              Se7en   \n",
            "47                                         Pocahontas   \n",
            "48                              When Night Is Falling   \n",
            "49                                 The Usual Suspects   \n",
            "\n",
            "                                               genres  \n",
            "0   [{'id': 16, 'name': 'Animation'}, {'id': 35, '...  \n",
            "1   [{'id': 12, 'name': 'Adventure'}, {'id': 14, '...  \n",
            "2   [{'id': 10749, 'name': 'Romance'}, {'id': 35, ...  \n",
            "3   [{'id': 35, 'name': 'Comedy'}, {'id': 18, 'nam...  \n",
            "4                      [{'id': 35, 'name': 'Comedy'}]  \n",
            "5   [{'id': 28, 'name': 'Action'}, {'id': 80, 'nam...  \n",
            "6   [{'id': 35, 'name': 'Comedy'}, {'id': 10749, '...  \n",
            "7   [{'id': 28, 'name': 'Action'}, {'id': 12, 'nam...  \n",
            "8   [{'id': 28, 'name': 'Action'}, {'id': 12, 'nam...  \n",
            "9   [{'id': 12, 'name': 'Adventure'}, {'id': 28, '...  \n",
            "10  [{'id': 35, 'name': 'Comedy'}, {'id': 18, 'nam...  \n",
            "11  [{'id': 35, 'name': 'Comedy'}, {'id': 27, 'nam...  \n",
            "12  [{'id': 10751, 'name': 'Family'}, {'id': 16, '...  \n",
            "13  [{'id': 36, 'name': 'History'}, {'id': 18, 'na...  \n",
            "14  [{'id': 28, 'name': 'Action'}, {'id': 12, 'nam...  \n",
            "15  [{'id': 18, 'name': 'Drama'}, {'id': 80, 'name...  \n",
            "16  [{'id': 18, 'name': 'Drama'}, {'id': 10749, 'n...  \n",
            "17  [{'id': 80, 'name': 'Crime'}, {'id': 35, 'name...  \n",
            "18  [{'id': 80, 'name': 'Crime'}, {'id': 35, 'name...  \n",
            "19  [{'id': 28, 'name': 'Action'}, {'id': 35, 'nam...  \n",
            "20  [{'id': 35, 'name': 'Comedy'}, {'id': 53, 'nam...  \n",
            "21  [{'id': 18, 'name': 'Drama'}, {'id': 53, 'name...  \n",
            "22  [{'id': 28, 'name': 'Action'}, {'id': 12, 'nam...  \n",
            "23  [{'id': 18, 'name': 'Drama'}, {'id': 14, 'name...  \n",
            "24  [{'id': 18, 'name': 'Drama'}, {'id': 10749, 'n...  \n",
            "25                      [{'id': 18, 'name': 'Drama'}]  \n",
            "26  [{'id': 35, 'name': 'Comedy'}, {'id': 18, 'nam...  \n",
            "27  [{'id': 18, 'name': 'Drama'}, {'id': 10749, 'n...  \n",
            "28  [{'id': 14, 'name': 'Fantasy'}, {'id': 878, 'n...  \n",
            "29  [{'id': 18, 'name': 'Drama'}, {'id': 80, 'name...  \n",
            "30  [{'id': 18, 'name': 'Drama'}, {'id': 80, 'name...  \n",
            "31  [{'id': 878, 'name': 'Science Fiction'}, {'id'...  \n",
            "32  [{'id': 10749, 'name': 'Romance'}, {'id': 12, ...  \n",
            "33  [{'id': 14, 'name': 'Fantasy'}, {'id': 18, 'na...  \n",
            "34  [{'id': 36, 'name': 'History'}, {'id': 18, 'na...  \n",
            "35                      [{'id': 18, 'name': 'Drama'}]  \n",
            "36  [{'id': 12, 'name': 'Adventure'}, {'id': 36, '...  \n",
            "37  [{'id': 35, 'name': 'Comedy'}, {'id': 10751, '...  \n",
            "38  [{'id': 35, 'name': 'Comedy'}, {'id': 18, 'nam...  \n",
            "39                      [{'id': 18, 'name': 'Drama'}]  \n",
            "40  [{'id': 18, 'name': 'Drama'}, {'id': 10752, 'n...  \n",
            "41  [{'id': 28, 'name': 'Action'}, {'id': 80, 'nam...  \n",
            "42  [{'id': 18, 'name': 'Drama'}, {'id': 10749, 'n...  \n",
            "43  [{'id': 28, 'name': 'Action'}, {'id': 14, 'nam...  \n",
            "44  [{'id': 14, 'name': 'Fantasy'}, {'id': 18, 'na...  \n",
            "45  [{'id': 18, 'name': 'Drama'}, {'id': 10749, 'n...  \n",
            "46  [{'id': 80, 'name': 'Crime'}, {'id': 9648, 'na...  \n",
            "47  [{'id': 12, 'name': 'Adventure'}, {'id': 16, '...  \n",
            "48  [{'id': 18, 'name': 'Drama'}, {'id': 10749, 'n...  \n",
            "49  [{'id': 18, 'name': 'Drama'}, {'id': 80, 'name...  \n"
          ],
          "name": "stdout"
        }
      ]
    },
    {
      "metadata": {
        "id": "KQhy1y15tiX5",
        "colab_type": "code",
        "colab": {
          "base_uri": "https://localhost:8080/",
          "height": 51
        },
        "outputId": "7acd329f-b89a-41b6-c85f-4c92f1dde94e"
      },
      "cell_type": "code",
      "source": [
        "\n",
        "import pandas as pd\n",
        "df = pd.read_csv('movies_metadata (1).csv', encoding='latin-1')\n",
        "result = df.shape\n",
        "print(\"Number of rows and columns of the DataFrame:\")\n",
        "print(result)"
      ],
      "execution_count": 10,
      "outputs": [
        {
          "output_type": "stream",
          "text": [
            "Number of rows and columns of the DataFrame:\n",
            "(50, 24)\n"
          ],
          "name": "stdout"
        }
      ]
    },
    {
      "metadata": {
        "id": "uqQCObKQtly6",
        "colab_type": "code",
        "colab": {
          "base_uri": "https://localhost:8080/",
          "height": 442
        },
        "outputId": "6dd82033-36e7-4073-f343-d5f2fdaf1235"
      },
      "cell_type": "code",
      "source": [
        "import pandas as pd\n",
        "df = pd.read_csv('movies_metadata (1).csv', encoding='latin-1')\n",
        "#Set the index to the title\n",
        "df = df.set_index('title')\n",
        "#Details of the movie 'Grumpier Old Men'\n",
        "result = df.loc['Grumpier Old Men']\n",
        "print(\"Details of the movie 'Grumpier Old Men:\")\n",
        "print(result)"
      ],
      "execution_count": 11,
      "outputs": [
        {
          "output_type": "stream",
          "text": [
            "Details of the movie 'Grumpier Old Men:\n",
            "adult                                                                False\n",
            "belongs_to_collection    {'id': 119050, 'name': 'Grumpy Old Men Collect...\n",
            "budget                                                                   0\n",
            "genres                   [{'id': 10749, 'name': 'Romance'}, {'id': 35, ...\n",
            "homepage                                                               NaN\n",
            "id                                                                   15602\n",
            "imdb_id                                                          tt0113228\n",
            "original_language                                                       en\n",
            "original_title                                            Grumpier Old Men\n",
            "overview                 A family wedding reignites the ancient feud be...\n",
            "popularity                                                         11.7129\n",
            "poster_path                               /6ksm1sjKMFLbO7UY2i6G1ju9SML.jpg\n",
            "production_companies     [{'name': 'Warner Bros.', 'id': 6194}, {'name'...\n",
            "production_countries     [{'iso_3166_1': 'US', 'name': 'United States o...\n",
            "release_date                                                    12/22/1995\n",
            "revenue                                                                  0\n",
            "runtime                                                                101\n",
            "spoken_languages                  [{'iso_639_1': 'en', 'name': 'English'}]\n",
            "status                                                            Released\n",
            "tagline                  Still Yelling. Still Fighting. Still Ready for...\n",
            "video                                                                FALSE\n",
            "vote_average                                                           6.5\n",
            "vote_count                                                              92\n",
            "Name: Grumpier Old Men, dtype: object\n"
          ],
          "name": "stdout"
        }
      ]
    },
    {
      "metadata": {
        "id": "5LC5ki4htp3O",
        "colab_type": "code",
        "colab": {}
      },
      "cell_type": "code",
      "source": [
        "import pandas as pd\n",
        "df = pd.read_csv('movies_metadata (1).csv', encoding='latin-1')\n",
        "fifth_movie = df.iloc[4]\n",
        "print(\"Details of the fifth moviee:\")\n",
        "print(fifth_movie)"
      ],
      "execution_count": 0,
      "outputs": []
    }
  ]
}